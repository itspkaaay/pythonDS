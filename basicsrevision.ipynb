{
 "cells": [
  {
   "cell_type": "markdown",
   "metadata": {},
   "source": [
    "#Numpy basics"
   ]
  },
  {
   "cell_type": "code",
   "execution_count": 3,
   "metadata": {},
   "outputs": [],
   "source": [
    "import numpy as np"
   ]
  },
  {
   "cell_type": "code",
   "execution_count": 17,
   "metadata": {},
   "outputs": [],
   "source": [
    "# declaration= np.array([],dtype=\"\");\n",
    "#np.full((tuple),constant);\n",
    "#np.eye((tuple));\n",
    "#np.random.random((tuple));\n",
    "#slicing: array[rowStart:rowEnd][colStart:colEnd];\n",
    "#changing values on slices array[rowStart:rowEnd][colStart:colEnd]=constant\n",
    "#datatypes:  np.arrays([],dtype=\"float64,int x\")\n",
    "\n",
    "#Element wise addition np.a+np.b // np.add(a,b);\n",
    "#element wise subtraction np.a -np.b // np.subtract(a,b);\n",
    "#element wise * np.a*np.b // np.multiply(a,b);\n",
    "#Element wise square rooting np.sqrt(array)\n",
    "\n",
    "#Matrix multiplication is np.dot(a,b); take care of shapes\n",
    "#sum of all elements np.sum(x,axis=0/1);\n",
    "#stack np.stack((a,b), axis=0/1);\n",
    "# reshape a.reshape(tuple);\n",
    "\n"
   ]
  },
  {
   "cell_type": "code",
   "execution_count": 15,
   "metadata": {},
   "outputs": [],
   "source": [
    "# Random module np.random\n",
    "# shuffle elements: np.shuffle(array);\n",
    "# generate array of random number np.random.rand(dim1,dim2,....);\n",
    "# generate normal distribution np.random.randn(dim1, dim2,dim3, ....);\\\n",
    "# select a rabdom values np.random.choice(array); return a random element from np.array\n",
    "# select seed to ensure you get same set of random number "
   ]
  },
  {
   "cell_type": "code",
   "execution_count": 16,
   "metadata": {},
   "outputs": [],
   "source": [
    "# statistical methods:\n",
    "# get min np.min(array,axis?=1/0)\n",
    "# get max np.max(array,axis?=1/0)\n",
    "# get avaerage np.mean(array, axis?=0/1, weights?=array);  // weighted average\n",
    "# get median np.median(array,axis?=0/1); // middle most value\n",
    "# std dev= sqrt(1/n*np.sum((x- mean)**2))  // np.std\n",
    "# var = np.std()**2 // np.var();\n",
    "\n"
   ]
  },
  {
   "cell_type": "markdown",
   "metadata": {},
   "source": [
    "# pandas\n",
    "- Dataframes store data in tabular form\n",
    "- import pandas as pd\n",
    "- Can convert dictionary to data frame pd.DataFrame(dictionary, dtype=\"float32\")\n",
    "- df.head(number) pretty prints the dataframe\n",
    "- df.columns shows all columns \n",
    "- df.to_csv('demo.csv')\n",
    "- df.read_csv('demo.csc', sep?=);\n",
    "- df.describe() gives description of the dataframe\n",
    "- df.iloc(rowIndex, colIndex) fetch rows/columns/records\n",
    "-"
   ]
  },
  {
   "cell_type": "code",
   "execution_count": null,
   "metadata": {},
   "outputs": [],
   "source": []
  }
 ],
 "metadata": {
  "kernelspec": {
   "display_name": "Python 3",
   "language": "python",
   "name": "python3"
  },
  "language_info": {
   "codemirror_mode": {
    "name": "ipython",
    "version": 3
   },
   "file_extension": ".py",
   "mimetype": "text/x-python",
   "name": "python",
   "nbconvert_exporter": "python",
   "pygments_lexer": "ipython3",
   "version": "3.7.7"
  }
 },
 "nbformat": 4,
 "nbformat_minor": 4
}
